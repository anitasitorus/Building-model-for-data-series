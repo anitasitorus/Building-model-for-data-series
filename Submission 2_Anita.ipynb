{
  "nbformat": 4,
  "nbformat_minor": 0,
  "metadata": {
    "colab": {
      "name": "Untitled12.ipynb",
      "provenance": []
    },
    "kernelspec": {
      "name": "python3",
      "display_name": "Python 3"
    }
  },
  "cells": [
    {
      "cell_type": "code",
      "metadata": {
        "id": "gDZ6hFqQXTgb",
        "colab_type": "code",
        "colab": {}
      },
      "source": [
        "import numpy as np\n",
        "import pandas as pd\n",
        "import tensorflow as tf\n",
        "import matplotlib.pyplot as plt\n",
        "\n",
        "from keras.layers import Dense, LSTM\n",
        "from sklearn.model_selection import train_test_split"
      ],
      "execution_count": 1,
      "outputs": []
    },
    {
      "cell_type": "code",
      "metadata": {
        "id": "cMXyLnPNblbR",
        "colab_type": "code",
        "colab": {
          "base_uri": "https://localhost:8080/",
          "height": 33
        },
        "outputId": "c4e239f6-a3da-48ca-a23f-2b38463d5c95"
      },
      "source": [
        "from google.colab import drive\n",
        "drive.mount('/content/drive')"
      ],
      "execution_count": 2,
      "outputs": [
        {
          "output_type": "stream",
          "text": [
            "Drive already mounted at /content/drive; to attempt to forcibly remount, call drive.mount(\"/content/drive\", force_remount=True).\n"
          ],
          "name": "stdout"
        }
      ]
    },
    {
      "cell_type": "code",
      "metadata": {
        "id": "l7Zoe-yIYcMK",
        "colab_type": "code",
        "colab": {
          "base_uri": "https://localhost:8080/",
          "height": 191
        },
        "outputId": "f5eea229-9aef-4d6f-9dfd-8a2c2fe11e78"
      },
      "source": [
        "df = pd.read_csv('/content/drive/My Drive/Kaggle/SolarPrediction.csv')\n",
        "df.head()"
      ],
      "execution_count": 3,
      "outputs": [
        {
          "output_type": "execute_result",
          "data": {
            "text/html": [
              "<div>\n",
              "<style scoped>\n",
              "    .dataframe tbody tr th:only-of-type {\n",
              "        vertical-align: middle;\n",
              "    }\n",
              "\n",
              "    .dataframe tbody tr th {\n",
              "        vertical-align: top;\n",
              "    }\n",
              "\n",
              "    .dataframe thead th {\n",
              "        text-align: right;\n",
              "    }\n",
              "</style>\n",
              "<table border=\"1\" class=\"dataframe\">\n",
              "  <thead>\n",
              "    <tr style=\"text-align: right;\">\n",
              "      <th></th>\n",
              "      <th>UNIXTime</th>\n",
              "      <th>Data</th>\n",
              "      <th>Time</th>\n",
              "      <th>Radiation</th>\n",
              "      <th>Temperature</th>\n",
              "      <th>Pressure</th>\n",
              "      <th>Humidity</th>\n",
              "      <th>WindDirection(Degrees)</th>\n",
              "      <th>Speed</th>\n",
              "      <th>TimeSunRise</th>\n",
              "      <th>TimeSunSet</th>\n",
              "    </tr>\n",
              "  </thead>\n",
              "  <tbody>\n",
              "    <tr>\n",
              "      <th>0</th>\n",
              "      <td>1475229326</td>\n",
              "      <td>9/29/2016 12:00:00 AM</td>\n",
              "      <td>23:55:26</td>\n",
              "      <td>1.21</td>\n",
              "      <td>48</td>\n",
              "      <td>30.46</td>\n",
              "      <td>59</td>\n",
              "      <td>177.39</td>\n",
              "      <td>5.62</td>\n",
              "      <td>06:13:00</td>\n",
              "      <td>18:13:00</td>\n",
              "    </tr>\n",
              "    <tr>\n",
              "      <th>1</th>\n",
              "      <td>1475229023</td>\n",
              "      <td>9/29/2016 12:00:00 AM</td>\n",
              "      <td>23:50:23</td>\n",
              "      <td>1.21</td>\n",
              "      <td>48</td>\n",
              "      <td>30.46</td>\n",
              "      <td>58</td>\n",
              "      <td>176.78</td>\n",
              "      <td>3.37</td>\n",
              "      <td>06:13:00</td>\n",
              "      <td>18:13:00</td>\n",
              "    </tr>\n",
              "    <tr>\n",
              "      <th>2</th>\n",
              "      <td>1475228726</td>\n",
              "      <td>9/29/2016 12:00:00 AM</td>\n",
              "      <td>23:45:26</td>\n",
              "      <td>1.23</td>\n",
              "      <td>48</td>\n",
              "      <td>30.46</td>\n",
              "      <td>57</td>\n",
              "      <td>158.75</td>\n",
              "      <td>3.37</td>\n",
              "      <td>06:13:00</td>\n",
              "      <td>18:13:00</td>\n",
              "    </tr>\n",
              "    <tr>\n",
              "      <th>3</th>\n",
              "      <td>1475228421</td>\n",
              "      <td>9/29/2016 12:00:00 AM</td>\n",
              "      <td>23:40:21</td>\n",
              "      <td>1.21</td>\n",
              "      <td>48</td>\n",
              "      <td>30.46</td>\n",
              "      <td>60</td>\n",
              "      <td>137.71</td>\n",
              "      <td>3.37</td>\n",
              "      <td>06:13:00</td>\n",
              "      <td>18:13:00</td>\n",
              "    </tr>\n",
              "    <tr>\n",
              "      <th>4</th>\n",
              "      <td>1475228124</td>\n",
              "      <td>9/29/2016 12:00:00 AM</td>\n",
              "      <td>23:35:24</td>\n",
              "      <td>1.17</td>\n",
              "      <td>48</td>\n",
              "      <td>30.46</td>\n",
              "      <td>62</td>\n",
              "      <td>104.95</td>\n",
              "      <td>5.62</td>\n",
              "      <td>06:13:00</td>\n",
              "      <td>18:13:00</td>\n",
              "    </tr>\n",
              "  </tbody>\n",
              "</table>\n",
              "</div>"
            ],
            "text/plain": [
              "     UNIXTime                   Data      Time  ...  Speed  TimeSunRise  TimeSunSet\n",
              "0  1475229326  9/29/2016 12:00:00 AM  23:55:26  ...   5.62     06:13:00    18:13:00\n",
              "1  1475229023  9/29/2016 12:00:00 AM  23:50:23  ...   3.37     06:13:00    18:13:00\n",
              "2  1475228726  9/29/2016 12:00:00 AM  23:45:26  ...   3.37     06:13:00    18:13:00\n",
              "3  1475228421  9/29/2016 12:00:00 AM  23:40:21  ...   3.37     06:13:00    18:13:00\n",
              "4  1475228124  9/29/2016 12:00:00 AM  23:35:24  ...   5.62     06:13:00    18:13:00\n",
              "\n",
              "[5 rows x 11 columns]"
            ]
          },
          "metadata": {
            "tags": []
          },
          "execution_count": 3
        }
      ]
    },
    {
      "cell_type": "code",
      "metadata": {
        "id": "dqaKxtRL47j_",
        "colab_type": "code",
        "colab": {
          "base_uri": "https://localhost:8080/",
          "height": 310
        },
        "outputId": "1f31297f-6e48-4e2b-8699-5e2c141abd3f"
      },
      "source": [
        "df.info()"
      ],
      "execution_count": 4,
      "outputs": [
        {
          "output_type": "stream",
          "text": [
            "<class 'pandas.core.frame.DataFrame'>\n",
            "RangeIndex: 32686 entries, 0 to 32685\n",
            "Data columns (total 11 columns):\n",
            " #   Column                  Non-Null Count  Dtype  \n",
            "---  ------                  --------------  -----  \n",
            " 0   UNIXTime                32686 non-null  int64  \n",
            " 1   Data                    32686 non-null  object \n",
            " 2   Time                    32686 non-null  object \n",
            " 3   Radiation               32686 non-null  float64\n",
            " 4   Temperature             32686 non-null  int64  \n",
            " 5   Pressure                32686 non-null  float64\n",
            " 6   Humidity                32686 non-null  int64  \n",
            " 7   WindDirection(Degrees)  32686 non-null  float64\n",
            " 8   Speed                   32686 non-null  float64\n",
            " 9   TimeSunRise             32686 non-null  object \n",
            " 10  TimeSunSet              32686 non-null  object \n",
            "dtypes: float64(4), int64(3), object(4)\n",
            "memory usage: 2.7+ MB\n"
          ],
          "name": "stdout"
        }
      ]
    },
    {
      "cell_type": "code",
      "metadata": {
        "id": "JmMOncjVb4NN",
        "colab_type": "code",
        "colab": {
          "base_uri": "https://localhost:8080/",
          "height": 191
        },
        "outputId": "83910436-d4cb-41fc-9465-d7ce101aa535"
      },
      "source": [
        "df = df.sort_values(['UNIXTime'], ascending = [True])\n",
        "df['UNIXTime'] = pd.to_datetime(df['UNIXTime'], unit='s')\n",
        "df.head()"
      ],
      "execution_count": 5,
      "outputs": [
        {
          "output_type": "execute_result",
          "data": {
            "text/html": [
              "<div>\n",
              "<style scoped>\n",
              "    .dataframe tbody tr th:only-of-type {\n",
              "        vertical-align: middle;\n",
              "    }\n",
              "\n",
              "    .dataframe tbody tr th {\n",
              "        vertical-align: top;\n",
              "    }\n",
              "\n",
              "    .dataframe thead th {\n",
              "        text-align: right;\n",
              "    }\n",
              "</style>\n",
              "<table border=\"1\" class=\"dataframe\">\n",
              "  <thead>\n",
              "    <tr style=\"text-align: right;\">\n",
              "      <th></th>\n",
              "      <th>UNIXTime</th>\n",
              "      <th>Data</th>\n",
              "      <th>Time</th>\n",
              "      <th>Radiation</th>\n",
              "      <th>Temperature</th>\n",
              "      <th>Pressure</th>\n",
              "      <th>Humidity</th>\n",
              "      <th>WindDirection(Degrees)</th>\n",
              "      <th>Speed</th>\n",
              "      <th>TimeSunRise</th>\n",
              "      <th>TimeSunSet</th>\n",
              "    </tr>\n",
              "  </thead>\n",
              "  <tbody>\n",
              "    <tr>\n",
              "      <th>7416</th>\n",
              "      <td>2016-09-01 10:00:08</td>\n",
              "      <td>9/1/2016 12:00:00 AM</td>\n",
              "      <td>00:00:08</td>\n",
              "      <td>2.58</td>\n",
              "      <td>51</td>\n",
              "      <td>30.43</td>\n",
              "      <td>103</td>\n",
              "      <td>77.27</td>\n",
              "      <td>11.25</td>\n",
              "      <td>06:07:00</td>\n",
              "      <td>18:38:00</td>\n",
              "    </tr>\n",
              "    <tr>\n",
              "      <th>7415</th>\n",
              "      <td>2016-09-01 10:05:10</td>\n",
              "      <td>9/1/2016 12:00:00 AM</td>\n",
              "      <td>00:05:10</td>\n",
              "      <td>2.83</td>\n",
              "      <td>51</td>\n",
              "      <td>30.43</td>\n",
              "      <td>103</td>\n",
              "      <td>153.44</td>\n",
              "      <td>9.00</td>\n",
              "      <td>06:07:00</td>\n",
              "      <td>18:38:00</td>\n",
              "    </tr>\n",
              "    <tr>\n",
              "      <th>7414</th>\n",
              "      <td>2016-09-01 10:20:06</td>\n",
              "      <td>9/1/2016 12:00:00 AM</td>\n",
              "      <td>00:20:06</td>\n",
              "      <td>2.16</td>\n",
              "      <td>51</td>\n",
              "      <td>30.43</td>\n",
              "      <td>103</td>\n",
              "      <td>142.04</td>\n",
              "      <td>7.87</td>\n",
              "      <td>06:07:00</td>\n",
              "      <td>18:38:00</td>\n",
              "    </tr>\n",
              "    <tr>\n",
              "      <th>7413</th>\n",
              "      <td>2016-09-01 10:25:05</td>\n",
              "      <td>9/1/2016 12:00:00 AM</td>\n",
              "      <td>00:25:05</td>\n",
              "      <td>2.21</td>\n",
              "      <td>51</td>\n",
              "      <td>30.43</td>\n",
              "      <td>103</td>\n",
              "      <td>144.12</td>\n",
              "      <td>18.00</td>\n",
              "      <td>06:07:00</td>\n",
              "      <td>18:38:00</td>\n",
              "    </tr>\n",
              "    <tr>\n",
              "      <th>7412</th>\n",
              "      <td>2016-09-01 10:30:09</td>\n",
              "      <td>9/1/2016 12:00:00 AM</td>\n",
              "      <td>00:30:09</td>\n",
              "      <td>2.25</td>\n",
              "      <td>51</td>\n",
              "      <td>30.43</td>\n",
              "      <td>103</td>\n",
              "      <td>67.42</td>\n",
              "      <td>11.25</td>\n",
              "      <td>06:07:00</td>\n",
              "      <td>18:38:00</td>\n",
              "    </tr>\n",
              "  </tbody>\n",
              "</table>\n",
              "</div>"
            ],
            "text/plain": [
              "                UNIXTime                  Data  ... TimeSunRise  TimeSunSet\n",
              "7416 2016-09-01 10:00:08  9/1/2016 12:00:00 AM  ...    06:07:00    18:38:00\n",
              "7415 2016-09-01 10:05:10  9/1/2016 12:00:00 AM  ...    06:07:00    18:38:00\n",
              "7414 2016-09-01 10:20:06  9/1/2016 12:00:00 AM  ...    06:07:00    18:38:00\n",
              "7413 2016-09-01 10:25:05  9/1/2016 12:00:00 AM  ...    06:07:00    18:38:00\n",
              "7412 2016-09-01 10:30:09  9/1/2016 12:00:00 AM  ...    06:07:00    18:38:00\n",
              "\n",
              "[5 rows x 11 columns]"
            ]
          },
          "metadata": {
            "tags": []
          },
          "execution_count": 5
        }
      ]
    },
    {
      "cell_type": "code",
      "metadata": {
        "id": "V1-l2DZR5dRL",
        "colab_type": "code",
        "colab": {}
      },
      "source": [
        "df = df.drop(columns=['Data', 'Time', 'Temperature', 'Pressure', 'Humidity', \n",
        "                 'WindDirection(Degrees)', 'Speed', 'TimeSunRise', 'TimeSunSet'])"
      ],
      "execution_count": 6,
      "outputs": []
    },
    {
      "cell_type": "code",
      "metadata": {
        "id": "YokyISzmnYyg",
        "colab_type": "code",
        "colab": {
          "base_uri": "https://localhost:8080/",
          "height": 260
        },
        "outputId": "ff550c7d-e8b8-459e-d7e5-6236a70e9e6d"
      },
      "source": [
        "import seaborn as sns\n",
        "sns.pairplot(df)"
      ],
      "execution_count": 7,
      "outputs": [
        {
          "output_type": "stream",
          "text": [
            "/usr/local/lib/python3.6/dist-packages/statsmodels/tools/_testing.py:19: FutureWarning: pandas.util.testing is deprecated. Use the functions in the public API at pandas.testing instead.\n",
            "  import pandas.util.testing as tm\n"
          ],
          "name": "stderr"
        },
        {
          "output_type": "execute_result",
          "data": {
            "text/plain": [
              "<seaborn.axisgrid.PairGrid at 0x7fa9ec28bcf8>"
            ]
          },
          "metadata": {
            "tags": []
          },
          "execution_count": 7
        },
        {
          "output_type": "display_data",
          "data": {
            "image/png": "[encoded data removed]",
            "text/plain": [
              "<Figure size 180x180 with 2 Axes>"
            ]
          },
          "metadata": {
            "tags": [],
            "needs_background": "light"
          }
        }
      ]
    },
    {
      "cell_type": "code",
      "metadata": {
        "id": "2JUIWuwrd-C6",
        "colab_type": "code",
        "colab": {
          "base_uri": "https://localhost:8080/",
          "height": 355
        },
        "outputId": "d2807dc3-6678-4068-af0c-bbbd4cb7cbe9"
      },
      "source": [
        "time = df['UNIXTime'].values\n",
        "radiation  = df['Radiation'].values\n",
        "\n",
        "plt.figure(figsize=(15,5))\n",
        "plt.plot(time, radiation, 'r')# 'r' is the color red\n",
        "plt.title('Radiationper time', fontsize=20,color=\"blue\")\n",
        "\n",
        "plt.xlabel('Time',color=\"blue\")\n",
        "plt.ylabel('Radiation',color=\"blue\")\n",
        "\n",
        "plt.legend('Radiation',loc='upper right')\n",
        "plt.show()"
      ],
      "execution_count": 8,
      "outputs": [
        {
          "output_type": "display_data",
          "data": {
            "image/png": "[encoded data removed]",
            "text/plain": [
              "<Figure size 1080x360 with 1 Axes>"
            ]
          },
          "metadata": {
            "tags": [],
            "needs_background": "light"
          }
        }
      ]
    },
    {
      "cell_type": "code",
      "metadata": {
        "id": "PjO63JGRiyjg",
        "colab_type": "code",
        "colab": {}
      },
      "source": [
        "_, _, _, data_test = train_test_split(time, radiation, test_size=0.2)"
      ],
      "execution_count": 9,
      "outputs": []
    },
    {
      "cell_type": "code",
      "metadata": {
        "id": "63BcsTuGjCuK",
        "colab_type": "code",
        "colab": {}
      },
      "source": [
        "def windowed_dataset(series, window_size, batch_size, shuffle_buffer):\n",
        "  series = tf.expand_dims(series, axis=-1)\n",
        "  ds = tf.data.Dataset.from_tensor_slices(series)\n",
        "  ds = ds.window(window_size + 1, shift=1, drop_remainder=True)\n",
        "  ds = ds.flat_map(lambda w: w.batch(window_size + 1))\n",
        "  ds = ds.shuffle(shuffle_buffer)\n",
        "  ds = ds.map(lambda w: (w[:-1], w[1:]))\n",
        "  return ds.batch(batch_size).prefetch(1)"
      ],
      "execution_count": 10,
      "outputs": []
    },
    {
      "cell_type": "code",
      "metadata": {
        "id": "w0OoX-b1jJDo",
        "colab_type": "code",
        "colab": {}
      },
      "source": [
        "train_set = windowed_dataset(radiation, window_size=60, batch_size=100, shuffle_buffer=1000)\n",
        "test_set = windowed_dataset(data_test, window_size=60, batch_size=100, shuffle_buffer=1000)\n",
        "\n",
        "model = tf.keras.Sequential([\n",
        "    tf.keras.layers.Bidirectional(tf.keras.layers.LSTM(32, return_sequences=True)),\n",
        "    tf.keras.layers.Dropout(0.5),\n",
        "    tf.keras.layers.Dense(32, activation=\"relu\"),\n",
        "    tf.keras.layers.Dense(16, activation=\"relu\"),\n",
        "    tf.keras.layers.Dropout(0.5),\n",
        "    tf.keras.layers.Dense(1),\n",
        "])\n",
        "optimizer = tf.keras.optimizers.Adam(lr=0.0005)\n",
        "model.compile(loss=tf.keras.losses.Huber(),\n",
        "              optimizer=optimizer,\n",
        "              metrics=[\"mae\"])"
      ],
      "execution_count": 11,
      "outputs": []
    },
    {
      "cell_type": "code",
      "metadata": {
        "id": "50LfjboUs-wk",
        "colab_type": "code",
        "colab": {
          "base_uri": "https://localhost:8080/",
          "height": 33
        },
        "outputId": "075da802-5acb-4e20-fa33-d66bdae46dba"
      },
      "source": [
        "range = df['Radiation'].max()-df['Radiation'].min()\n",
        "range"
      ],
      "execution_count": 12,
      "outputs": [
        {
          "output_type": "execute_result",
          "data": {
            "text/plain": [
              "1600.15"
            ]
          },
          "metadata": {
            "tags": []
          },
          "execution_count": 12
        }
      ]
    },
    {
      "cell_type": "code",
      "metadata": {
        "id": "v7TWVetklTGH",
        "colab_type": "code",
        "colab": {}
      },
      "source": [
        "class myCallback(tf.keras.callbacks.Callback):\n",
        "  def on_epoch_end(self, epoch, logs={}):\n",
        "    if(logs.get('mae')<range/10 and logs.get('val_mae')<range/10):\n",
        "      self.model.stop_training = True\n",
        "callbacks = myCallback()"
      ],
      "execution_count": 13,
      "outputs": []
    },
    {
      "cell_type": "code",
      "metadata": {
        "id": "anB6myirlWz8",
        "colab_type": "code",
        "colab": {
          "base_uri": "https://localhost:8080/",
          "height": 427
        },
        "outputId": "3b630a8c-b8e1-421b-f098-5b0a17dbabce"
      },
      "source": [
        "num_epochs = 30\n",
        "hist = model.fit(train_set, epochs=num_epochs, validation_data=(test_set), callbacks=[callbacks], verbose=1)"
      ],
      "execution_count": 14,
      "outputs": [
        {
          "output_type": "stream",
          "text": [
            "Epoch 1/30\n",
            "WARNING:tensorflow:Layer bidirectional is casting an input tensor from dtype float64 to the layer's dtype of float32, which is new behavior in TensorFlow 2.  The layer has dtype float32 because its dtype defaults to floatx.\n",
            "\n",
            "If you intended to run this layer in float32, you can safely ignore this warning. If in doubt, this warning is likely only an issue if you are porting a TensorFlow 1.X model to TensorFlow 2.\n",
            "\n",
            "To change all layers to have dtype float64 by default, call `tf.keras.backend.set_floatx('float64')`. To change just this layer, pass dtype='float64' to the layer constructor. If you are the author of this layer, you can disable autocasting by passing autocast=False to the base Layer constructor.\n",
            "\n",
            "327/327 [==============================] - 22s 68ms/step - loss: 184.3505 - mae: 184.7496 - val_loss: 215.7686 - val_mae: 216.2537\n",
            "Epoch 2/30\n",
            "327/327 [==============================] - 22s 66ms/step - loss: 81.9002 - mae: 82.2756 - val_loss: 210.5079 - val_mae: 210.9929\n",
            "Epoch 3/30\n",
            "327/327 [==============================] - 21s 65ms/step - loss: 63.1543 - mae: 63.5215 - val_loss: 200.1172 - val_mae: 200.5995\n",
            "Epoch 4/30\n",
            "327/327 [==============================] - 22s 67ms/step - loss: 60.9849 - mae: 61.3482 - val_loss: 185.2563 - val_mae: 185.7369\n",
            "Epoch 5/30\n",
            "327/327 [==============================] - 22s 66ms/step - loss: 59.4151 - mae: 59.7737 - val_loss: 173.1419 - val_mae: 173.6242\n",
            "Epoch 6/30\n",
            "327/327 [==============================] - 21s 66ms/step - loss: 58.5785 - mae: 58.9309 - val_loss: 170.3825 - val_mae: 170.8664\n",
            "Epoch 7/30\n",
            "327/327 [==============================] - 22s 66ms/step - loss: 57.7904 - mae: 58.1384 - val_loss: 160.1771 - val_mae: 160.6633\n",
            "Epoch 8/30\n",
            "327/327 [==============================] - 21s 65ms/step - loss: 57.4559 - mae: 57.7963 - val_loss: 160.3426 - val_mae: 160.8309\n",
            "Epoch 9/30\n",
            "327/327 [==============================] - 21s 65ms/step - loss: 57.0974 - mae: 57.4290 - val_loss: 158.5077 - val_mae: 158.9967\n"
          ],
          "name": "stdout"
        }
      ]
    },
    {
      "cell_type": "code",
      "metadata": {
        "id": "Bw-mMWKArlnc",
        "colab_type": "code",
        "colab": {
          "base_uri": "https://localhost:8080/",
          "height": 295
        },
        "outputId": "c897bd4f-36e3-49d8-80e5-bf128e39acc2"
      },
      "source": [
        "plt.plot(hist.history['mae'], ls='--',color=\"blue\")\n",
        "plt.plot(hist.history['val_mae'], ls='--',color=\"red\")\n",
        "plt.title('MAE GRAPICH')\n",
        "plt.ylabel('mae')\n",
        "plt.xlabel('epoch')\n",
        "plt.legend(['train', 'val'], loc='upper left')\n",
        "plt.show()"
      ],
      "execution_count": 20,
      "outputs": [
        {
          "output_type": "display_data",
          "data": {
            "image/png": "[encoded data removed]",
            "text/plain": [
              "<Figure size 432x288 with 1 Axes>"
            ]
          },
          "metadata": {
            "tags": [],
            "needs_background": "light"
          }
        }
      ]
    }
  ]
}